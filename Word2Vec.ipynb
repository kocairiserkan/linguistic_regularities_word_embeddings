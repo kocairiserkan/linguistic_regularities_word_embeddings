{
  "cells": [
    {
      "cell_type": "markdown",
      "metadata": {
        "id": "view-in-github",
        "colab_type": "text"
      },
      "source": [
        "<a href=\"https://colab.research.google.com/github/kocairiserkan/linguistic_regularities_word_embeddings/blob/main/Word2Vec.ipynb\" target=\"_parent\"><img src=\"https://colab.research.google.com/assets/colab-badge.svg\" alt=\"Open In Colab\"/></a>"
      ]
    },
    {
      "cell_type": "code",
      "execution_count": 3,
      "metadata": {
        "id": "Q198KTu5ZNdW"
      },
      "outputs": [],
      "source": [
        "from gensim.models import KeyedVectors\n",
        "filename=\"GoogleNews-vectors-negative300.bin\"\n",
        "mymodel = KeyedVectors.load_word2vec_format(filename, binary=True)"
      ]
    },
    {
      "cell_type": "code",
      "execution_count": 4,
      "metadata": {
        "colab": {
          "base_uri": "https://localhost:8080/"
        },
        "id": "Yd_aq7f7ZNdc",
        "outputId": "823e95aa-811a-4810-9adc-520840f8136e"
      },
      "outputs": [
        {
          "output_type": "execute_result",
          "data": {
            "text/plain": [
              "0.76640123"
            ]
          },
          "metadata": {},
          "execution_count": 4
        }
      ],
      "source": [
        "mymodel.similarity(\"man\",\"woman\")"
      ]
    },
    {
      "cell_type": "code",
      "execution_count": 5,
      "metadata": {
        "colab": {
          "base_uri": "https://localhost:8080/"
        },
        "id": "xfQmiCoNZNdd",
        "outputId": "855faa7b-77e9-4614-a08c-f55d9af108fb"
      },
      "outputs": [
        {
          "output_type": "execute_result",
          "data": {
            "text/plain": [
              "[('woman', 0.7664012908935547),\n",
              " ('boy', 0.6824871301651001),\n",
              " ('teenager', 0.6586930155754089),\n",
              " ('teenage_girl', 0.6147903203964233),\n",
              " ('girl', 0.5921714305877686),\n",
              " ('suspected_purse_snatcher', 0.571636438369751),\n",
              " ('robber', 0.5585119128227234),\n",
              " ('Robbery_suspect', 0.5584409832954407),\n",
              " ('teen_ager', 0.5549196600914001),\n",
              " ('men', 0.5489763021469116)]"
            ]
          },
          "metadata": {},
          "execution_count": 5
        }
      ],
      "source": [
        "mymodel.most_similar(positive=[\"man\"])"
      ]
    },
    {
      "cell_type": "code",
      "source": [
        "mymodel.most_similar(\"man\")"
      ],
      "metadata": {
        "colab": {
          "base_uri": "https://localhost:8080/"
        },
        "id": "lPXxfT-PF_Nd",
        "outputId": "2ed6cda7-3bd1-4eb0-d751-b73bef081f08"
      },
      "execution_count": 6,
      "outputs": [
        {
          "output_type": "execute_result",
          "data": {
            "text/plain": [
              "[('woman', 0.7664012908935547),\n",
              " ('boy', 0.6824871301651001),\n",
              " ('teenager', 0.6586930155754089),\n",
              " ('teenage_girl', 0.6147903203964233),\n",
              " ('girl', 0.5921714305877686),\n",
              " ('suspected_purse_snatcher', 0.571636438369751),\n",
              " ('robber', 0.5585119128227234),\n",
              " ('Robbery_suspect', 0.5584409832954407),\n",
              " ('teen_ager', 0.5549196600914001),\n",
              " ('men', 0.5489763021469116)]"
            ]
          },
          "metadata": {},
          "execution_count": 6
        }
      ]
    },
    {
      "cell_type": "code",
      "execution_count": 7,
      "metadata": {
        "colab": {
          "base_uri": "https://localhost:8080/"
        },
        "id": "Gf-NK8z6ZNde",
        "outputId": "af039b79-6874-4b1e-ef70-223000876bee"
      },
      "outputs": [
        {
          "output_type": "execute_result",
          "data": {
            "text/plain": [
              "array([ 0.32617188,  0.13085938,  0.03466797, -0.08300781,  0.08984375,\n",
              "       -0.04125977, -0.19824219,  0.00689697,  0.14355469,  0.0019455 ,\n",
              "        0.02880859, -0.25      , -0.08398438, -0.15136719, -0.10205078,\n",
              "        0.04077148, -0.09765625,  0.05932617,  0.02978516, -0.10058594,\n",
              "       -0.13085938,  0.001297  ,  0.02612305, -0.27148438,  0.06396484,\n",
              "       -0.19140625, -0.078125  ,  0.25976562,  0.375     , -0.04541016,\n",
              "        0.16210938,  0.13671875, -0.06396484, -0.02062988, -0.09667969,\n",
              "        0.25390625,  0.24804688, -0.12695312,  0.07177734,  0.3203125 ,\n",
              "        0.03149414, -0.03857422,  0.21191406, -0.00811768,  0.22265625,\n",
              "       -0.13476562, -0.07617188,  0.01049805, -0.05175781,  0.03808594,\n",
              "       -0.13378906,  0.125     ,  0.0559082 , -0.18261719,  0.08154297,\n",
              "       -0.08447266, -0.07763672, -0.04345703,  0.08105469, -0.01092529,\n",
              "        0.17480469,  0.30664062, -0.04321289, -0.01416016,  0.09082031,\n",
              "       -0.00927734, -0.03442383, -0.11523438,  0.12451172, -0.0246582 ,\n",
              "        0.08544922,  0.14355469, -0.27734375,  0.03662109, -0.11035156,\n",
              "        0.13085938, -0.01721191, -0.08056641, -0.00708008, -0.02954102,\n",
              "        0.30078125, -0.09033203,  0.03149414, -0.18652344, -0.11181641,\n",
              "        0.10253906, -0.25976562, -0.02209473,  0.16796875, -0.05322266,\n",
              "       -0.14550781, -0.01049805, -0.03039551, -0.03857422,  0.11523438,\n",
              "       -0.0062561 , -0.13964844,  0.08007812,  0.06103516, -0.15332031,\n",
              "       -0.11132812, -0.14160156,  0.19824219, -0.06933594,  0.29296875,\n",
              "       -0.16015625,  0.20898438,  0.00041771,  0.01831055, -0.20214844,\n",
              "        0.04760742,  0.05810547, -0.0123291 , -0.01989746, -0.00364685,\n",
              "       -0.0135498 , -0.08251953, -0.03149414,  0.00717163,  0.20117188,\n",
              "        0.08300781, -0.0480957 , -0.26367188, -0.09667969, -0.22558594,\n",
              "       -0.09667969,  0.06494141, -0.02502441,  0.08496094,  0.03198242,\n",
              "       -0.07568359, -0.25390625, -0.11669922, -0.01446533, -0.16015625,\n",
              "       -0.00701904, -0.05712891,  0.02807617, -0.09179688,  0.25195312,\n",
              "        0.24121094,  0.06640625,  0.12988281,  0.17089844, -0.13671875,\n",
              "        0.1875    , -0.10009766, -0.04199219, -0.12011719,  0.00524902,\n",
              "        0.15625   , -0.203125  , -0.07128906, -0.06103516,  0.01635742,\n",
              "        0.18261719,  0.03588867, -0.04248047,  0.16796875, -0.15039062,\n",
              "       -0.16992188,  0.01831055,  0.27734375, -0.01269531, -0.0390625 ,\n",
              "       -0.15429688,  0.18457031, -0.07910156,  0.09033203, -0.02709961,\n",
              "        0.08251953,  0.06738281, -0.16113281, -0.19628906, -0.15234375,\n",
              "       -0.04711914,  0.04760742,  0.05908203, -0.16894531, -0.14941406,\n",
              "        0.12988281,  0.04321289,  0.02624512, -0.1796875 , -0.19628906,\n",
              "        0.06445312,  0.08935547,  0.1640625 , -0.03808594, -0.09814453,\n",
              "       -0.01483154,  0.1875    ,  0.12792969,  0.22753906,  0.01818848,\n",
              "       -0.07958984, -0.11376953, -0.06933594, -0.15527344, -0.08105469,\n",
              "       -0.09277344, -0.11328125, -0.15136719, -0.08007812, -0.05126953,\n",
              "       -0.15332031,  0.11669922,  0.06835938,  0.0324707 , -0.33984375,\n",
              "       -0.08154297, -0.08349609,  0.04003906,  0.04907227, -0.24121094,\n",
              "       -0.13476562, -0.05932617,  0.12158203, -0.34179688,  0.16503906,\n",
              "        0.06176758, -0.18164062,  0.20117188, -0.07714844,  0.1640625 ,\n",
              "        0.00402832,  0.30273438, -0.10009766, -0.13671875, -0.05957031,\n",
              "        0.0625    , -0.21289062, -0.06542969,  0.1796875 , -0.07763672,\n",
              "       -0.01928711, -0.15039062, -0.00106049,  0.03417969,  0.03344727,\n",
              "        0.19335938,  0.01965332, -0.19921875, -0.10644531,  0.01525879,\n",
              "        0.00927734,  0.01416016, -0.02392578,  0.05883789,  0.02368164,\n",
              "        0.125     ,  0.04760742, -0.05566406,  0.11572266,  0.14746094,\n",
              "        0.1015625 , -0.07128906, -0.07714844, -0.12597656,  0.0291748 ,\n",
              "        0.09521484, -0.12402344, -0.109375  , -0.12890625,  0.16308594,\n",
              "        0.28320312, -0.03149414,  0.12304688, -0.23242188, -0.09375   ,\n",
              "       -0.12988281,  0.0135498 , -0.03881836, -0.08251953,  0.00897217,\n",
              "        0.16308594,  0.10546875, -0.13867188, -0.16503906, -0.03857422,\n",
              "        0.10839844, -0.10498047,  0.06396484,  0.38867188, -0.05981445,\n",
              "       -0.0612793 , -0.10449219, -0.16796875,  0.07177734,  0.13964844,\n",
              "        0.15527344, -0.03125   , -0.20214844, -0.12988281, -0.10058594,\n",
              "       -0.06396484, -0.08349609, -0.30273438, -0.08007812,  0.02099609],\n",
              "      dtype=float32)"
            ]
          },
          "metadata": {},
          "execution_count": 7
        }
      ],
      "source": [
        "mymodel[\"man\"]"
      ]
    },
    {
      "cell_type": "code",
      "execution_count": 8,
      "metadata": {
        "colab": {
          "base_uri": "https://localhost:8080/"
        },
        "id": "zdvK4QSOZNdf",
        "outputId": "52b717bf-693d-4eba-b9e8-5b62100a358f"
      },
      "outputs": [
        {
          "output_type": "execute_result",
          "data": {
            "text/plain": [
              "[('eScholar_Uniq_ID', 0.3076219856739044),\n",
              " ('Globalization_KEY_FACTORS', 0.3046054542064667),\n",
              " ('Errors_excepted', 0.30044835805892944),\n",
              " ('K.Kahne_###-###', 0.2990735173225403),\n",
              " ('E.Sadler_###-###', 0.2889132499694824),\n",
              " ('Nasdaq_NASDAQ_TRIN', 0.2878507673740387),\n",
              " ('G.Biffle_###-###', 0.2810034453868866),\n",
              " ('By_CONNIE_LEWIS', 0.2796446681022644),\n",
              " ('Website_http://www.wabco-auto.com', 0.27901124954223633),\n",
              " ('Bluechips_Watch_List', 0.2788917124271393)]"
            ]
          },
          "metadata": {},
          "execution_count": 8
        }
      ],
      "source": [
        "mymodel.most_similar(negative=['man'])"
      ]
    },
    {
      "cell_type": "code",
      "source": [
        "mymodel.most_similar(positive=['China','London'],negative=['England'])"
      ],
      "metadata": {
        "colab": {
          "base_uri": "https://localhost:8080/"
        },
        "id": "HB1f7jaZcTAI",
        "outputId": "036afb9b-1701-4611-c8f8-56e90cd87619"
      },
      "execution_count": 9,
      "outputs": [
        {
          "output_type": "execute_result",
          "data": {
            "text/plain": [
              "[('Beijing', 0.6737731099128723),\n",
              " ('Shanghai', 0.6466286778450012),\n",
              " ('Beijng', 0.5856549739837646),\n",
              " ('Hong_Kong', 0.5709934830665588),\n",
              " ('Chinese', 0.5639771819114685),\n",
              " ('Guangdong', 0.5119545459747314),\n",
              " ('Shenzhen', 0.5102902054786682),\n",
              " ('Yanqi', 0.5076326727867126),\n",
              " ('Nanjing', 0.505686342716217),\n",
              " ('Guangzhou', 0.5043154954910278)]"
            ]
          },
          "metadata": {},
          "execution_count": 9
        }
      ]
    },
    {
      "cell_type": "code",
      "source": [
        "mymodel.most_similar(positive=['China','London'],negative=['Beijing'])"
      ],
      "metadata": {
        "colab": {
          "base_uri": "https://localhost:8080/"
        },
        "id": "5WgW7iHCcTJs",
        "outputId": "d7a2373c-fbcd-472a-ae04-c8781681147c"
      },
      "execution_count": 10,
      "outputs": [
        {
          "output_type": "execute_result",
          "data": {
            "text/plain": [
              "[('UK', 0.6304796934127808),\n",
              " ('Britain', 0.6012536287307739),\n",
              " ('EURASIAN_NATURAL_RESOURCES_CORP.', 0.5524139404296875),\n",
              " ('Europe', 0.5444058775901794),\n",
              " ('United_Kingdom', 0.5375455021858215),\n",
              " ('Britian', 0.533497154712677),\n",
              " ('Asia', 0.5230792760848999),\n",
              " ('Londons', 0.5065235495567322),\n",
              " ('Croydon', 0.502274215221405),\n",
              " ('Africa', 0.500918984413147)]"
            ]
          },
          "metadata": {},
          "execution_count": 10
        }
      ]
    },
    {
      "cell_type": "code",
      "source": [
        "import json\n",
        "with open('relations.json', 'r') as fp:\n",
        "    testtuples=json.load(fp)\n",
        "print(testtuples)"
      ],
      "metadata": {
        "colab": {
          "base_uri": "https://localhost:8080/"
        },
        "id": "VSgxB6xrcTMw",
        "outputId": "69ea6aee-a938-477d-e5ff-42bc50991015"
      },
      "execution_count": 11,
      "outputs": [
        {
          "output_type": "stream",
          "name": "stdout",
          "text": [
            "{'gram3-comparative': [['bad', 'worse'], ['big', 'bigger'], ['bright', 'brighter'], ['cheap', 'cheaper'], ['cold', 'colder'], ['cool', 'cooler'], ['deep', 'deeper'], ['easy', 'easier'], ['fast', 'faster'], ['good', 'better'], ['great', 'greater'], ['hard', 'harder'], ['heavy', 'heavier'], ['high', 'higher'], ['hot', 'hotter'], ['large', 'larger'], ['long', 'longer'], ['loud', 'louder'], ['low', 'lower'], ['new', 'newer'], ['old', 'older'], ['quick', 'quicker'], ['safe', 'safer'], ['sharp', 'sharper'], ['short', 'shorter'], ['simple', 'simpler'], ['slow', 'slower'], ['small', 'smaller'], ['smart', 'smarter'], ['strong', 'stronger'], ['tall', 'taller'], ['tight', 'tighter'], ['tough', 'tougher'], ['warm', 'warmer'], ['weak', 'weaker'], ['wide', 'wider'], ['young', 'younger']], 'gram8-plural': [['banana', 'bananas'], ['bird', 'birds'], ['bottle', 'bottles'], ['building', 'buildings'], ['car', 'cars'], ['cat', 'cats'], ['child', 'children'], ['cloud', 'clouds'], ['color', 'colors'], ['computer', 'computers'], ['cow', 'cows'], ['dog', 'dogs'], ['dollar', 'dollars'], ['donkey', 'donkeys'], ['dream', 'dreams'], ['eagle', 'eagles'], ['elephant', 'elephants'], ['eye', 'eyes'], ['finger', 'fingers'], ['goat', 'goats'], ['hand', 'hands'], ['horse', 'horses'], ['lion', 'lions'], ['machine', 'machines'], ['mango', 'mangoes'], ['man', 'men'], ['melon', 'melons'], ['monkey', 'monkeys'], ['mouse', 'mice'], ['onion', 'onions'], ['pear', 'pears'], ['pig', 'pigs'], ['pineapple', 'pineapples'], ['rat', 'rats'], ['road', 'roads'], ['snake', 'snakes'], ['woman', 'women']], 'capital-common-countries': [['Athens', 'Greece'], ['Baghdad', 'Iraq'], ['Bangkok', 'Thailand'], ['Beijing', 'China'], ['Berlin', 'Germany'], ['Bern', 'Switzerland'], ['Cairo', 'Egypt'], ['Canberra', 'Australia'], ['Hanoi', 'Vietnam'], ['Havana', 'Cuba'], ['Helsinki', 'Finland'], ['Islamabad', 'Pakistan'], ['Kabul', 'Afghanistan'], ['London', 'England'], ['Madrid', 'Spain'], ['Moscow', 'Russia'], ['Oslo', 'Norway'], ['Ottawa', 'Canada'], ['Paris', 'France'], ['Rome', 'Italy'], ['Stockholm', 'Sweden'], ['Tehran', 'Iran'], ['Tokyo', 'Japan']], 'city-in-state': [['Chicago', 'Illinois'], ['Houston', 'Texas'], ['Philadelphia', 'Pennsylvania'], ['Phoenix', 'Arizona'], ['Dallas', 'Texas'], ['Jacksonville', 'Florida'], ['Indianapolis', 'Indiana'], ['Austin', 'Texas'], ['Detroit', 'Michigan'], ['Memphis', 'Tennessee'], ['Boston', 'Massachusetts'], ['Seattle', 'Washington'], ['Denver', 'Colorado'], ['Baltimore', 'Maryland'], ['Nashville', 'Tennessee'], ['Louisville', 'Kentucky'], ['Milwaukee', 'Wisconsin'], ['Portland', 'Oregon'], ['Tucson', 'Arizona'], ['Fresno', 'California'], ['Sacramento', 'California'], ['Mesa', 'Arizona'], ['Atlanta', 'Georgia'], ['Omaha', 'Nebraska'], ['Miami', 'Florida'], ['Tulsa', 'Oklahoma'], ['Oakland', 'California'], ['Cleveland', 'Ohio'], ['Minneapolis', 'Minnesota'], ['Wichita', 'Kansas'], ['Arlington', 'Texas'], ['Bakersfield', 'California'], ['Tampa', 'Florida'], ['Anaheim', 'California'], ['Honolulu', 'Hawaii'], ['Pittsburgh', 'Pennsylvania'], ['Lexington', 'Kentucky'], ['Stockton', 'California'], ['Cincinnati', 'Ohio'], ['Anchorage', 'Alaska'], ['Toledo', 'Ohio'], ['Plano', 'Texas'], ['Henderson', 'Nevada'], ['Orlando', 'Florida'], ['Laredo', 'Texas'], ['Chandler', 'Arizona'], ['Madison', 'Wisconsin'], ['Lubbock', 'Texas'], ['Garland', 'Texas'], ['Glendale', 'Arizona'], ['Hialeah', 'Florida'], ['Reno', 'Nevada'], ['Scottsdale', 'Arizona'], ['Irving', 'Texas'], ['Fremont', 'California'], ['Irvine', 'California'], ['Spokane', 'Washington'], ['Modesto', 'California'], ['Shreveport', 'Louisiana'], ['Tacoma', 'Washington'], ['Oxnard', 'California'], ['Fontana', 'California'], ['Akron', 'Ohio'], ['Amarillo', 'Texas'], ['Glendale', 'California'], ['Tallahassee', 'Florida'], ['Huntsville', 'Alabama'], ['Worcester', 'Massachusetts']], 'family': [['boy', 'girl'], ['brother', 'sister'], ['brothers', 'sisters'], ['dad', 'mom'], ['father', 'mother'], ['grandfather', 'grandmother'], ['grandpa', 'grandma'], ['grandson', 'granddaughter'], ['groom', 'bride'], ['he', 'she'], ['his', 'her'], ['husband', 'wife'], ['king', 'queen'], ['man', 'woman'], ['nephew', 'niece'], ['policeman', 'policewoman'], ['prince', 'princess'], ['son', 'daughter'], ['sons', 'daughters'], ['stepbrother', 'stepsister'], ['stepfather', 'stepmother'], ['stepson', 'stepdaughter'], ['uncle', 'aunt']], 'gram2-opposite': [['acceptable', 'unacceptable'], ['aware', 'unaware'], ['certain', 'uncertain'], ['clear', 'unclear'], ['comfortable', 'uncomfortable'], ['competitive', 'uncompetitive'], ['consistent', 'inconsistent'], ['convincing', 'unconvincing'], ['convenient', 'inconvenient'], ['decided', 'undecided'], ['efficient', 'inefficient'], ['ethical', 'unethical'], ['fortunate', 'unfortunate'], ['honest', 'dishonest'], ['impressive', 'unimpressive'], ['informative', 'uninformative'], ['informed', 'uninformed'], ['known', 'unknown'], ['likely', 'unlikely'], ['logical', 'illogical'], ['pleasant', 'unpleasant'], ['possible', 'impossible'], ['possibly', 'impossibly'], ['productive', 'unproductive'], ['rational', 'irrational'], ['reasonable', 'unreasonable'], ['responsible', 'irresponsible'], ['sure', 'unsure'], ['tasteful', 'distasteful']], 'currency': [['Algeria', 'dinar'], ['Angola', 'kwanza'], ['Argentina', 'peso'], ['Armenia', 'dram'], ['Brazil', 'real'], ['Bulgaria', 'lev'], ['Cambodia', 'riel'], ['Canada', 'dollar'], ['Croatia', 'kuna'], ['Denmark', 'krone'], ['Europe', 'euro'], ['Hungary', 'forint'], ['India', 'rupee'], ['Iran', 'rial'], ['Japan', 'yen'], ['Korea', 'won'], ['Latvia', 'lats'], ['Lithuania', 'litas'], ['Macedonia', 'denar'], ['Malaysia', 'ringgit'], ['Mexico', 'peso'], ['Nigeria', 'naira'], ['Poland', 'zloty'], ['Romania', 'leu'], ['Russia', 'ruble'], ['Sweden', 'krona'], ['Thailand', 'baht'], ['Ukraine', 'hryvnia'], ['USA', 'dollar'], ['Vietnam', 'dong']], 'gram4-superlative': [['bad', 'worst'], ['big', 'biggest'], ['bright', 'brightest'], ['cold', 'coldest'], ['cool', 'coolest'], ['dark', 'darkest'], ['easy', 'easiest'], ['fast', 'fastest'], ['good', 'best'], ['great', 'greatest'], ['high', 'highest'], ['hot', 'hottest'], ['large', 'largest'], ['long', 'longest'], ['low', 'lowest'], ['lucky', 'luckiest'], ['old', 'oldest'], ['quick', 'quickest'], ['sharp', 'sharpest'], ['simple', 'simplest'], ['short', 'shortest'], ['slow', 'slowest'], ['small', 'smallest'], ['smart', 'smartest'], ['strange', 'strangest'], ['strong', 'strongest'], ['sweet', 'sweetest'], ['tall', 'tallest'], ['tasty', 'tastiest'], ['warm', 'warmest'], ['weak', 'weakest'], ['weird', 'weirdest'], ['wide', 'widest'], ['young', 'youngest']], 'gram6-nationality-adjective': [['Albania', 'Albanian'], ['Argentina', 'Argentinean'], ['Australia', 'Australian'], ['Austria', 'Austrian'], ['Belarus', 'Belorussian'], ['Brazil', 'Brazilian'], ['Bulgaria', 'Bulgarian'], ['Cambodia', 'Cambodian'], ['Chile', 'Chilean'], ['China', 'Chinese'], ['Colombia', 'Colombian'], ['Croatia', 'Croatian'], ['Denmark', 'Danish'], ['Egypt', 'Egyptian'], ['England', 'English'], ['France', 'French'], ['Germany', 'German'], ['Greece', 'Greek'], ['Iceland', 'Icelandic'], ['India', 'Indian'], ['Ireland', 'Irish'], ['Israel', 'Israeli'], ['Italy', 'Italian'], ['Japan', 'Japanese'], ['Korea', 'Korean'], ['Macedonia', 'Macedonian'], ['Malta', 'Maltese'], ['Mexico', 'Mexican'], ['Moldova', 'Moldovan'], ['Netherlands', 'Dutch'], ['Norway', 'Norwegian'], ['Peru', 'Peruvian'], ['Poland', 'Polish'], ['Portugal', 'Portuguese'], ['Russia', 'Russian'], ['Slovakia', 'Slovakian'], ['Spain', 'Spanish'], ['Sweden', 'Swedish'], ['Switzerland', 'Swiss'], ['Thailand', 'Thai'], ['Ukraine', 'Ukrainian']], 'gram7-past-tense': [['dancing', 'danced'], ['decreasing', 'decreased'], ['describing', 'described'], ['enhancing', 'enhanced'], ['falling', 'fell'], ['feeding', 'fed'], ['flying', 'flew'], ['generating', 'generated'], ['going', 'went'], ['hiding', 'hid'], ['hitting', 'hit'], ['implementing', 'implemented'], ['increasing', 'increased'], ['jumping', 'jumped'], ['knowing', 'knew'], ['listening', 'listened'], ['looking', 'looked'], ['moving', 'moved'], ['paying', 'paid'], ['playing', 'played'], ['predicting', 'predicted'], ['reading', 'read'], ['running', 'ran'], ['saying', 'said'], ['screaming', 'screamed'], ['seeing', 'saw'], ['selling', 'sold'], ['shrinking', 'shrank'], ['singing', 'sang'], ['sitting', 'sat'], ['sleeping', 'slept'], ['slowing', 'slowed'], ['spending', 'spent'], ['striking', 'struck'], ['swimming', 'swam'], ['taking', 'took'], ['thinking', 'thought'], ['vanishing', 'vanished'], ['walking', 'walked'], ['writing', 'wrote']], 'gram5-present-participle': [['code', 'coding'], ['dance', 'dancing'], ['debug', 'debugging'], ['decrease', 'decreasing'], ['describe', 'describing'], ['discover', 'discovering'], ['enhance', 'enhancing'], ['fly', 'flying'], ['generate', 'generating'], ['go', 'going'], ['implement', 'implementing'], ['increase', 'increasing'], ['invent', 'inventing'], ['jump', 'jumping'], ['listen', 'listening'], ['look', 'looking'], ['move', 'moving'], ['play', 'playing'], ['predict', 'predicting'], ['read', 'reading'], ['run', 'running'], ['say', 'saying'], ['scream', 'screaming'], ['see', 'seeing'], ['shuffle', 'shuffling'], ['sing', 'singing'], ['sit', 'sitting'], ['slow', 'slowing'], ['swim', 'swimming'], ['think', 'thinking'], ['vanish', 'vanishing'], ['walk', 'walking'], ['write', 'writing']], 'capital-world': [['Abuja', 'Nigeria'], ['Accra', 'Ghana'], ['Algiers', 'Algeria'], ['Amman', 'Jordan'], ['Ankara', 'Turkey'], ['Antananarivo', 'Madagascar'], ['Apia', 'Samoa'], ['Ashgabat', 'Turkmenistan'], ['Asmara', 'Eritrea'], ['Astana', 'Kazakhstan'], ['Athens', 'Greece'], ['Baghdad', 'Iraq'], ['Baku', 'Azerbaijan'], ['Bamako', 'Mali'], ['Bangkok', 'Thailand'], ['Banjul', 'Gambia'], ['Beijing', 'China'], ['Beirut', 'Lebanon'], ['Belgrade', 'Serbia'], ['Belmopan', 'Belize'], ['Berlin', 'Germany'], ['Bern', 'Switzerland'], ['Bishkek', 'Kyrgyzstan'], ['Bratislava', 'Slovakia'], ['Brussels', 'Belgium'], ['Bucharest', 'Romania'], ['Budapest', 'Hungary'], ['Bujumbura', 'Burundi'], ['Cairo', 'Egypt'], ['Canberra', 'Australia'], ['Caracas', 'Venezuela'], ['Chisinau', 'Moldova'], ['Conakry', 'Guinea'], ['Copenhagen', 'Denmark'], ['Dakar', 'Senegal'], ['Damascus', 'Syria'], ['Dhaka', 'Bangladesh'], ['Doha', 'Qatar'], ['Dublin', 'Ireland'], ['Dushanbe', 'Tajikistan'], ['Funafuti', 'Tuvalu'], ['Gaborone', 'Botswana'], ['Georgetown', 'Guyana'], ['Hanoi', 'Vietnam'], ['Harare', 'Zimbabwe'], ['Havana', 'Cuba'], ['Helsinki', 'Finland'], ['Islamabad', 'Pakistan'], ['Jakarta', 'Indonesia'], ['Kabul', 'Afghanistan'], ['Kampala', 'Uganda'], ['Kathmandu', 'Nepal'], ['Khartoum', 'Sudan'], ['Kiev', 'Ukraine'], ['Kigali', 'Rwanda'], ['Kingston', 'Jamaica'], ['Libreville', 'Gabon'], ['Lilongwe', 'Malawi'], ['Lima', 'Peru'], ['Lisbon', 'Portugal'], ['Ljubljana', 'Slovenia'], ['London', 'England'], ['Luanda', 'Angola'], ['Lusaka', 'Zambia'], ['Madrid', 'Spain'], ['Managua', 'Nicaragua'], ['Manama', 'Bahrain'], ['Manila', 'Philippines'], ['Maputo', 'Mozambique'], ['Minsk', 'Belarus'], ['Mogadishu', 'Somalia'], ['Monrovia', 'Liberia'], ['Montevideo', 'Uruguay'], ['Moscow', 'Russia'], ['Muscat', 'Oman'], ['Nairobi', 'Kenya'], ['Nassau', 'Bahamas'], ['Niamey', 'Niger'], ['Nicosia', 'Cyprus'], ['Nouakchott', 'Mauritania'], ['Nuuk', 'Greenland'], ['Oslo', 'Norway'], ['Ottawa', 'Canada'], ['Paramaribo', 'Suriname'], ['Paris', 'France'], ['Podgorica', 'Montenegro'], ['Quito', 'Ecuador'], ['Rabat', 'Morocco'], ['Riga', 'Latvia'], ['Rome', 'Italy'], ['Roseau', 'Dominica'], ['Santiago', 'Chile'], ['Skopje', 'Macedonia'], ['Sofia', 'Bulgaria'], ['Stockholm', 'Sweden'], ['Suva', 'Fiji'], ['Taipei', 'Taiwan'], ['Tallinn', 'Estonia'], ['Tashkent', 'Uzbekistan'], ['Tbilisi', 'Georgia'], ['Tegucigalpa', 'Honduras'], ['Tehran', 'Iran'], ['Thimphu', 'Bhutan'], ['Tirana', 'Albania'], ['Tokyo', 'Japan'], ['Tripoli', 'Libya'], ['Tunis', 'Tunisia'], ['Vaduz', 'Liechtenstein'], ['Valletta', 'Malta'], ['Vienna', 'Austria'], ['Vientiane', 'Laos'], ['Vilnius', 'Lithuania'], ['Warsaw', 'Poland'], ['Windhoek', 'Namibia'], ['Yerevan', 'Armenia'], ['Zagreb', 'Croatia']], 'gram1-adjective-to-adverb': [['amazing', 'amazingly'], ['apparent', 'apparently'], ['calm', 'calmly'], ['cheerful', 'cheerfully'], ['complete', 'completely'], ['efficient', 'efficiently'], ['fortunate', 'fortunately'], ['free', 'freely'], ['furious', 'furiously'], ['happy', 'happily'], ['immediate', 'immediately'], ['infrequent', 'infrequently'], ['lucky', 'luckily'], ['most', 'mostly'], ['obvious', 'obviously'], ['occasional', 'occasionally'], ['possible', 'possibly'], ['precise', 'precisely'], ['professional', 'professionally'], ['quick', 'quickly'], ['quiet', 'quietly'], ['rapid', 'rapidly'], ['rare', 'rarely'], ['reluctant', 'reluctantly'], ['safe', 'safely'], ['serious', 'seriously'], ['slow', 'slowly'], ['sudden', 'suddenly'], ['swift', 'swiftly'], ['typical', 'typically'], ['unfortunate', 'unfortunately'], ['usual', 'usually']]}\n"
          ]
        }
      ]
    },
    {
      "cell_type": "code",
      "source": [
        "testtuples.keys()"
      ],
      "metadata": {
        "colab": {
          "base_uri": "https://localhost:8080/"
        },
        "id": "eZRLM5t_cTPn",
        "outputId": "fe9dbd6a-de5f-413d-ae61-e6d66224b92b"
      },
      "execution_count": 12,
      "outputs": [
        {
          "output_type": "execute_result",
          "data": {
            "text/plain": [
              "dict_keys(['gram3-comparative', 'gram8-plural', 'capital-common-countries', 'city-in-state', 'family', 'gram2-opposite', 'currency', 'gram4-superlative', 'gram6-nationality-adjective', 'gram7-past-tense', 'gram5-present-participle', 'capital-world', 'gram1-adjective-to-adverb'])"
            ]
          },
          "metadata": {},
          "execution_count": 12
        }
      ]
    },
    {
      "cell_type": "code",
      "source": [
        "testtuples['capital-common-countries']"
      ],
      "metadata": {
        "colab": {
          "base_uri": "https://localhost:8080/"
        },
        "id": "yGACuS_ecTSN",
        "outputId": "1816139e-1dd1-443f-b7dd-b8a8f12183c7"
      },
      "execution_count": 13,
      "outputs": [
        {
          "output_type": "execute_result",
          "data": {
            "text/plain": [
              "[['Athens', 'Greece'],\n",
              " ['Baghdad', 'Iraq'],\n",
              " ['Bangkok', 'Thailand'],\n",
              " ['Beijing', 'China'],\n",
              " ['Berlin', 'Germany'],\n",
              " ['Bern', 'Switzerland'],\n",
              " ['Cairo', 'Egypt'],\n",
              " ['Canberra', 'Australia'],\n",
              " ['Hanoi', 'Vietnam'],\n",
              " ['Havana', 'Cuba'],\n",
              " ['Helsinki', 'Finland'],\n",
              " ['Islamabad', 'Pakistan'],\n",
              " ['Kabul', 'Afghanistan'],\n",
              " ['London', 'England'],\n",
              " ['Madrid', 'Spain'],\n",
              " ['Moscow', 'Russia'],\n",
              " ['Oslo', 'Norway'],\n",
              " ['Ottawa', 'Canada'],\n",
              " ['Paris', 'France'],\n",
              " ['Rome', 'Italy'],\n",
              " ['Stockholm', 'Sweden'],\n",
              " ['Tehran', 'Iran'],\n",
              " ['Tokyo', 'Japan']]"
            ]
          },
          "metadata": {},
          "execution_count": 13
        }
      ]
    },
    {
      "cell_type": "markdown",
      "source": [
        "**TASKS**"
      ],
      "metadata": {
        "id": "PFCu32FmmUet"
      }
    },
    {
      "cell_type": "markdown",
      "source": [
        "1. When given one (capital city, country) training pair can predict the capital\n",
        "of the other countries in the capital-common-countries list in testtuples"
      ],
      "metadata": {
        "id": "41HCpZTdmOgb"
      }
    },
    {
      "cell_type": "code",
      "source": [
        "import random\n",
        "capital_countries = testtuples['capital-common-countries']\n",
        "\n",
        "def predict_capital(cap_coun_pair,country):\n",
        "  capitals = mymodel.most_similar(positive = [cap_coun_pair[0],country],negative=[cap_coun_pair[1]])[0][0]\n",
        "  return capitals\n",
        "\n",
        "\n",
        "random.shuffle(capital_countries)\n",
        "for (capital,country) in capital_countries:\n",
        "  pred = predict_capital(capital_countries[0],country)\n",
        "  print((country,capital),pred)"
      ],
      "metadata": {
        "id": "qBUCXYZqcTUj",
        "colab": {
          "base_uri": "https://localhost:8080/"
        },
        "outputId": "58fcc849-a7ef-47d1-e5b4-ca5829ca66cf"
      },
      "execution_count": 24,
      "outputs": [
        {
          "output_type": "stream",
          "name": "stdout",
          "text": [
            "('Germany', 'Berlin') Munich\n",
            "('Norway', 'Oslo') Oslo\n",
            "('France', 'Paris') Paris\n",
            "('Afghanistan', 'Kabul') Kabul\n",
            "('Spain', 'Madrid') Madrid\n",
            "('Pakistan', 'Islamabad') Islamabad\n",
            "('Sweden', 'Stockholm') Stockholm\n",
            "('Italy', 'Rome') Rome\n",
            "('Thailand', 'Bangkok') Bangkok\n",
            "('Greece', 'Athens') Athens\n",
            "('Russia', 'Moscow') Moscow\n",
            "('Japan', 'Tokyo') Tokyo\n",
            "('Switzerland', 'Bern') Zurich\n",
            "('China', 'Beijing') Beijing\n",
            "('Iran', 'Tehran') Tehran\n",
            "('Vietnam', 'Hanoi') Vietnam_War\n",
            "('Australia', 'Canberra') Sydney\n",
            "('Finland', 'Helsinki') Helsinki\n",
            "('Egypt', 'Cairo') Cairo\n",
            "('Canada', 'Ottawa') Ottawa\n",
            "('England', 'London') London\n",
            "('Iraq', 'Baghdad') Baghdad\n",
            "('Cuba', 'Havana') Havana\n"
          ]
        }
      ]
    },
    {
      "cell_type": "markdown",
      "source": [
        "2. Use the correct answers, also given, to evaluate how accurate your capital-predictor is. You should\n",
        "calculate the average accuracy over all possible training pairs.\n"
      ],
      "metadata": {
        "id": "A5BdNwhcsBUR"
      }
    },
    {
      "cell_type": "code",
      "source": [
        "capital_countries = testtuples['capital-common-countries']\n",
        "\n",
        "def predict_capital(cap_coun_pair,country):\n",
        "  capitals = mymodel.most_similar(positive = [cap_coun_pair[0],country],negative=[cap_coun_pair[1]])[0][0]\n",
        "  return capitals\n",
        "\n",
        "\n",
        "random.shuffle(capital_countries)\n",
        "capitals, countries = zip(*capital_countries)\n",
        "acc = []\n",
        "for cap_count in capital_countries:\n",
        "  correct = 0\n",
        "  print(\"Training:{}\".format(cap_count))\n",
        "  for capital,country in capital_countries:\n",
        "    pred = predict_capital(cap_count,country)\n",
        "    if pred==capital:\n",
        "      correct += 1\n",
        "    print((capital,country),pred)\n",
        "  accuracy=correct/len(capital_countries)\n",
        "  print(accuracy)"
      ],
      "metadata": {
        "id": "7Mu6KgHkcTZQ",
        "colab": {
          "base_uri": "https://localhost:8080/"
        },
        "outputId": "06017ed7-5ad6-448c-9f23-6011880ed91c"
      },
      "execution_count": 36,
      "outputs": [
        {
          "output_type": "stream",
          "name": "stdout",
          "text": [
            "Training:['Canberra', 'Australia']\n",
            "('Canberra', 'Australia') Brisbane\n",
            "('London', 'England') Salford\n",
            "('Madrid', 'Spain') Madrid\n",
            "('Cairo', 'Egypt') Cairo\n",
            "('Stockholm', 'Sweden') Stockholm\n",
            "('Paris', 'France') Paris\n",
            "('Bern', 'Switzerland') Swiss\n",
            "('Helsinki', 'Finland') Helsinki\n",
            "('Ottawa', 'Canada') Ottawa\n",
            "('Berlin', 'Germany') Berlin\n",
            "('Rome', 'Italy') Milan\n",
            "('Tokyo', 'Japan') Tokyo\n",
            "('Islamabad', 'Pakistan') Islamabad\n",
            "('Baghdad', 'Iraq') Baghdad\n",
            "('Athens', 'Greece') Greek\n",
            "('Oslo', 'Norway') Norwegian\n",
            "('Hanoi', 'Vietnam') Hanoi\n",
            "('Havana', 'Cuba') Havana\n",
            "('Bangkok', 'Thailand') Bangkok\n",
            "('Moscow', 'Russia') Moscow\n",
            "('Beijing', 'China') Beijing\n",
            "('Tehran', 'Iran') Tehran\n",
            "('Kabul', 'Afghanistan') Afghan\n",
            "0.6956521739130435\n",
            "Training:['London', 'England']\n",
            "('Canberra', 'Australia') Sydney\n",
            "('London', 'England') EURASIAN_NATURAL_RESOURCES_CORP.\n",
            "('Madrid', 'Spain') Madrid\n",
            "('Cairo', 'Egypt') Cairo\n",
            "('Stockholm', 'Sweden') Stockholm\n",
            "('Paris', 'France') Paris\n",
            "('Bern', 'Switzerland') Zurich\n",
            "('Helsinki', 'Finland') Helsinki\n",
            "('Ottawa', 'Canada') Toronto\n",
            "('Berlin', 'Germany') Berlin\n",
            "('Rome', 'Italy') Milan\n",
            "('Tokyo', 'Japan') Tokyo\n",
            "('Islamabad', 'Pakistan') Islamabad\n",
            "('Baghdad', 'Iraq') Baghdad\n",
            "('Athens', 'Greece') Athens\n",
            "('Oslo', 'Norway') Oslo\n",
            "('Hanoi', 'Vietnam') Hanoi\n",
            "('Havana', 'Cuba') Havana\n",
            "('Bangkok', 'Thailand') Bangkok\n",
            "('Moscow', 'Russia') Moscow\n",
            "('Beijing', 'China') Beijing\n",
            "('Tehran', 'Iran') Tehran\n",
            "('Kabul', 'Afghanistan') Kabul\n",
            "0.782608695652174\n",
            "Training:['Madrid', 'Spain']\n",
            "('Canberra', 'Australia') Sydney\n",
            "('London', 'England') London\n",
            "('Madrid', 'Spain') Barcelona\n",
            "('Cairo', 'Egypt') Cairo\n",
            "('Stockholm', 'Sweden') Stockholm\n",
            "('Paris', 'France') Paris\n",
            "('Bern', 'Switzerland') Zurich\n",
            "('Helsinki', 'Finland') Helsinki\n",
            "('Ottawa', 'Canada') Calgary\n",
            "('Berlin', 'Germany') Munich\n",
            "('Rome', 'Italy') Milan\n",
            "('Tokyo', 'Japan') Tokyo\n",
            "('Islamabad', 'Pakistan') Islamabad\n",
            "('Baghdad', 'Iraq') Baghdad\n",
            "('Athens', 'Greece') Athens\n",
            "('Oslo', 'Norway') Oslo\n",
            "('Hanoi', 'Vietnam') Hanoi\n",
            "('Havana', 'Cuba') Havana\n",
            "('Bangkok', 'Thailand') Bangkok\n",
            "('Moscow', 'Russia') Moscow\n",
            "('Beijing', 'China') Beijing\n",
            "('Tehran', 'Iran') Tehran\n",
            "('Kabul', 'Afghanistan') Afghan\n",
            "0.6956521739130435\n",
            "Training:['Cairo', 'Egypt']\n",
            "('Canberra', 'Australia') Sydney\n",
            "('London', 'England') stock_symbol_BNK\n",
            "('Madrid', 'Spain') Madrid\n",
            "('Cairo', 'Egypt') Tunis\n",
            "('Stockholm', 'Sweden') Stockholm\n",
            "('Paris', 'France') Paris\n",
            "('Bern', 'Switzerland') Lausanne\n",
            "('Helsinki', 'Finland') Helsinki\n",
            "('Ottawa', 'Canada') Toronto\n",
            "('Berlin', 'Germany') Berlin\n",
            "('Rome', 'Italy') Rome\n",
            "('Tokyo', 'Japan') Tokyo\n",
            "('Islamabad', 'Pakistan') Islamabad\n",
            "('Baghdad', 'Iraq') Baghdad\n",
            "('Athens', 'Greece') Athens\n",
            "('Oslo', 'Norway') Oslo\n",
            "('Hanoi', 'Vietnam') Hanoi\n",
            "('Havana', 'Cuba') Havana\n",
            "('Bangkok', 'Thailand') Bangkok\n",
            "('Moscow', 'Russia') Moscow\n",
            "('Beijing', 'China') Beijing\n",
            "('Tehran', 'Iran') Tehran\n",
            "('Kabul', 'Afghanistan') Kabul\n",
            "0.782608695652174\n",
            "Training:['Stockholm', 'Sweden']\n",
            "('Canberra', 'Australia') Sydney\n",
            "('London', 'England') London\n",
            "('Madrid', 'Spain') Madrid\n",
            "('Cairo', 'Egypt') Cairo\n",
            "('Stockholm', 'Sweden') Stockholm_Sweden\n",
            "('Paris', 'France') Paris\n",
            "('Bern', 'Switzerland') Zurich\n",
            "('Helsinki', 'Finland') Helsinki\n",
            "('Ottawa', 'Canada') Toronto\n",
            "('Berlin', 'Germany') Berlin\n",
            "('Rome', 'Italy') Rome\n",
            "('Tokyo', 'Japan') Tokyo\n",
            "('Islamabad', 'Pakistan') Islamabad\n",
            "('Baghdad', 'Iraq') Baghdad\n",
            "('Athens', 'Greece') Athens\n",
            "('Oslo', 'Norway') Oslo\n",
            "('Hanoi', 'Vietnam') Hanoi\n",
            "('Havana', 'Cuba') Havana\n",
            "('Bangkok', 'Thailand') Bangkok\n",
            "('Moscow', 'Russia') Moscow\n",
            "('Beijing', 'China') Beijing\n",
            "('Tehran', 'Iran') Tehran\n",
            "('Kabul', 'Afghanistan') Kabul\n",
            "0.8260869565217391\n",
            "Training:['Paris', 'France']\n",
            "('Canberra', 'Australia') Sydney\n",
            "('London', 'England') London\n",
            "('Madrid', 'Spain') Madrid\n",
            "('Cairo', 'Egypt') Cairo\n",
            "('Stockholm', 'Sweden') Stockholm\n",
            "('Paris', 'France') Parisian\n",
            "('Bern', 'Switzerland') Zurich\n",
            "('Helsinki', 'Finland') Helsinki\n",
            "('Ottawa', 'Canada') Toronto\n",
            "('Berlin', 'Germany') Berlin\n",
            "('Rome', 'Italy') Milan\n",
            "('Tokyo', 'Japan') Tokyo\n",
            "('Islamabad', 'Pakistan') Islamabad\n",
            "('Baghdad', 'Iraq') Baghdad\n",
            "('Athens', 'Greece') Athens\n",
            "('Oslo', 'Norway') Oslo\n",
            "('Hanoi', 'Vietnam') Saigon\n",
            "('Havana', 'Cuba') Havana\n",
            "('Bangkok', 'Thailand') Bangkok\n",
            "('Moscow', 'Russia') Moscow\n",
            "('Beijing', 'China') Beijing\n",
            "('Tehran', 'Iran') Tehran\n",
            "('Kabul', 'Afghanistan') Kabul\n",
            "0.7391304347826086\n",
            "Training:['Bern', 'Switzerland']\n",
            "('Canberra', 'Australia') Sydney\n",
            "('London', 'England') Bedford\n",
            "('Madrid', 'Spain') Iberia\n",
            "('Cairo', 'Egypt') Cairo\n",
            "('Stockholm', 'Sweden') Stockholm\n",
            "('Paris', 'France') French\n",
            "('Bern', 'Switzerland') Hanover\n",
            "('Helsinki', 'Finland') Finnish\n",
            "('Ottawa', 'Canada') Brunswick\n",
            "('Berlin', 'Germany') Berlin\n",
            "('Rome', 'Italy') Rome\n",
            "('Tokyo', 'Japan') Tokyo\n",
            "('Islamabad', 'Pakistan') Islamabad\n",
            "('Baghdad', 'Iraq') Baghdad\n",
            "('Athens', 'Greece') Athens\n",
            "('Oslo', 'Norway') Norwegian\n",
            "('Hanoi', 'Vietnam') Vietnam_War\n",
            "('Havana', 'Cuba') Havana\n",
            "('Bangkok', 'Thailand') Thai\n",
            "('Moscow', 'Russia') Moscow\n",
            "('Beijing', 'China') Beijing\n",
            "('Tehran', 'Iran') Tehran\n",
            "('Kabul', 'Afghanistan') Afghan\n",
            "0.5217391304347826\n",
            "Training:['Helsinki', 'Finland']\n",
            "('Canberra', 'Australia') Sydney\n",
            "('London', 'England') London\n",
            "('Madrid', 'Spain') Madrid\n",
            "('Cairo', 'Egypt') Cairo\n",
            "('Stockholm', 'Sweden') Stockholm\n",
            "('Paris', 'France') Paris\n",
            "('Bern', 'Switzerland') Zurich\n",
            "('Helsinki', 'Finland') Stockholm\n",
            "('Ottawa', 'Canada') Toronto\n",
            "('Berlin', 'Germany') Berlin\n",
            "('Rome', 'Italy') Rome\n",
            "('Tokyo', 'Japan') Tokyo\n",
            "('Islamabad', 'Pakistan') Islamabad\n",
            "('Baghdad', 'Iraq') Baghdad\n",
            "('Athens', 'Greece') Athens\n",
            "('Oslo', 'Norway') Oslo\n",
            "('Hanoi', 'Vietnam') Hanoi\n",
            "('Havana', 'Cuba') Havana\n",
            "('Bangkok', 'Thailand') Bangkok\n",
            "('Moscow', 'Russia') Moscow\n",
            "('Beijing', 'China') Beijing\n",
            "('Tehran', 'Iran') Tehran\n",
            "('Kabul', 'Afghanistan') Kabul\n",
            "0.8260869565217391\n",
            "Training:['Ottawa', 'Canada']\n",
            "('Canberra', 'Australia') Canberra\n",
            "('London', 'England') Manchester\n",
            "('Madrid', 'Spain') Madrid\n",
            "('Cairo', 'Egypt') Cairo\n",
            "('Stockholm', 'Sweden') Stockholm\n",
            "('Paris', 'France') Paris\n",
            "('Bern', 'Switzerland') Swiss\n",
            "('Helsinki', 'Finland') Finnish\n",
            "('Ottawa', 'Canada') Toronto\n",
            "('Berlin', 'Germany') Hamburg\n",
            "('Rome', 'Italy') Milan\n",
            "('Tokyo', 'Japan') Tokyo\n",
            "('Islamabad', 'Pakistan') Islamabad\n",
            "('Baghdad', 'Iraq') Baghdad\n",
            "('Athens', 'Greece') Athens\n",
            "('Oslo', 'Norway') Oslo\n",
            "('Hanoi', 'Vietnam') Hanoi\n",
            "('Havana', 'Cuba') Havana\n",
            "('Bangkok', 'Thailand') Bangkok\n",
            "('Moscow', 'Russia') Moscow\n",
            "('Beijing', 'China') Beijing\n",
            "('Tehran', 'Iran') Tehran\n",
            "('Kabul', 'Afghanistan') Afghan\n",
            "0.6956521739130435\n",
            "Training:['Berlin', 'Germany']\n",
            "('Canberra', 'Australia') Sydney\n",
            "('London', 'England') London\n",
            "('Madrid', 'Spain') Madrid\n",
            "('Cairo', 'Egypt') Cairo\n",
            "('Stockholm', 'Sweden') Stockholm\n",
            "('Paris', 'France') Paris\n",
            "('Bern', 'Switzerland') Zurich\n",
            "('Helsinki', 'Finland') Helsinki\n",
            "('Ottawa', 'Canada') Ottawa\n",
            "('Berlin', 'Germany') Munich\n",
            "('Rome', 'Italy') Rome\n",
            "('Tokyo', 'Japan') Tokyo\n",
            "('Islamabad', 'Pakistan') Islamabad\n",
            "('Baghdad', 'Iraq') Baghdad\n",
            "('Athens', 'Greece') Athens\n",
            "('Oslo', 'Norway') Oslo\n",
            "('Hanoi', 'Vietnam') Vietnam_War\n",
            "('Havana', 'Cuba') Havana\n",
            "('Bangkok', 'Thailand') Bangkok\n",
            "('Moscow', 'Russia') Moscow\n",
            "('Beijing', 'China') Beijing\n",
            "('Tehran', 'Iran') Tehran\n",
            "('Kabul', 'Afghanistan') Kabul\n",
            "0.8260869565217391\n",
            "Training:['Rome', 'Italy']\n",
            "('Canberra', 'Australia') Sydney\n",
            "('London', 'England') London\n",
            "('Madrid', 'Spain') Madrid\n",
            "('Cairo', 'Egypt') Cairo\n",
            "('Stockholm', 'Sweden') Stockholm\n",
            "('Paris', 'France') Paris\n",
            "('Bern', 'Switzerland') Lausanne\n",
            "('Helsinki', 'Finland') Helsinki\n",
            "('Ottawa', 'Canada') Montreal\n",
            "('Berlin', 'Germany') Berlin\n",
            "('Rome', 'Italy') based_Isae_Institute\n",
            "('Tokyo', 'Japan') Tokyo\n",
            "('Islamabad', 'Pakistan') Islamabad\n",
            "('Baghdad', 'Iraq') Baghdad\n",
            "('Athens', 'Greece') Athens\n",
            "('Oslo', 'Norway') Oslo\n",
            "('Hanoi', 'Vietnam') Vietnam_War\n",
            "('Havana', 'Cuba') Havana\n",
            "('Bangkok', 'Thailand') Bangkok\n",
            "('Moscow', 'Russia') Moscow\n",
            "('Beijing', 'China') Beijing\n",
            "('Tehran', 'Iran') Teheran\n",
            "('Kabul', 'Afghanistan') Kabul\n",
            "0.7391304347826086\n",
            "Training:['Tokyo', 'Japan']\n",
            "('Canberra', 'Australia') Sydney\n",
            "('London', 'England') London\n",
            "('Madrid', 'Spain') Madrid\n",
            "('Cairo', 'Egypt') Cairo\n",
            "('Stockholm', 'Sweden') Stockholm\n",
            "('Paris', 'France') Paris\n",
            "('Bern', 'Switzerland') Zurich\n",
            "('Helsinki', 'Finland') Helsinki\n",
            "('Ottawa', 'Canada') Toronto\n",
            "('Berlin', 'Germany') Frankfurt\n",
            "('Rome', 'Italy') Milan\n",
            "('Tokyo', 'Japan') Osaka\n",
            "('Islamabad', 'Pakistan') Islamabad\n",
            "('Baghdad', 'Iraq') Baghdad\n",
            "('Athens', 'Greece') Athens\n",
            "('Oslo', 'Norway') Oslo\n",
            "('Hanoi', 'Vietnam') Hanoi\n",
            "('Havana', 'Cuba') Havana\n",
            "('Bangkok', 'Thailand') Bangkok\n",
            "('Moscow', 'Russia') Moscow\n",
            "('Beijing', 'China') Beijing\n",
            "('Tehran', 'Iran') Tehran\n",
            "('Kabul', 'Afghanistan') Kabul\n",
            "0.7391304347826086\n",
            "Training:['Islamabad', 'Pakistan']\n",
            "('Canberra', 'Australia') Sydney\n",
            "('London', 'England') stock_symbol_BNK\n",
            "('Madrid', 'Spain') Madrid\n",
            "('Cairo', 'Egypt') Cairo\n",
            "('Stockholm', 'Sweden') Stockholm\n",
            "('Paris', 'France') Paris\n",
            "('Bern', 'Switzerland') Swiss\n",
            "('Helsinki', 'Finland') Helsinki\n",
            "('Ottawa', 'Canada') Alberta\n",
            "('Berlin', 'Germany') Berlin\n",
            "('Rome', 'Italy') Rome\n",
            "('Tokyo', 'Japan') Tokyo\n",
            "('Islamabad', 'Pakistan') Lahore\n",
            "('Baghdad', 'Iraq') Baghdad\n",
            "('Athens', 'Greece') Athens\n",
            "('Oslo', 'Norway') Oslo\n",
            "('Hanoi', 'Vietnam') Hanoi\n",
            "('Havana', 'Cuba') Havana\n",
            "('Bangkok', 'Thailand') Bangkok\n",
            "('Moscow', 'Russia') Moscow\n",
            "('Beijing', 'China') Beijing\n",
            "('Tehran', 'Iran') Tehran\n",
            "('Kabul', 'Afghanistan') Kabul\n",
            "0.782608695652174\n",
            "Training:['Baghdad', 'Iraq']\n",
            "('Canberra', 'Australia') Sydney\n",
            "('London', 'England') stock_symbol_BNK\n",
            "('Madrid', 'Spain') Madrid\n",
            "('Cairo', 'Egypt') Cairo\n",
            "('Stockholm', 'Sweden') Stockholm\n",
            "('Paris', 'France') Paris\n",
            "('Bern', 'Switzerland') Swiss\n",
            "('Helsinki', 'Finland') Turku\n",
            "('Ottawa', 'Canada') Canadian\n",
            "('Berlin', 'Germany') Cologne\n",
            "('Rome', 'Italy') Italian\n",
            "('Tokyo', 'Japan') Tokyo\n",
            "('Islamabad', 'Pakistan') Islamabad\n",
            "('Baghdad', 'Iraq') Mosul\n",
            "('Athens', 'Greece') Thessaloniki\n",
            "('Oslo', 'Norway') Norwegian\n",
            "('Hanoi', 'Vietnam') Hanoi\n",
            "('Havana', 'Cuba') Havana\n",
            "('Bangkok', 'Thailand') Bangkok\n",
            "('Moscow', 'Russia') Moscow\n",
            "('Beijing', 'China') Beijing\n",
            "('Tehran', 'Iran') Tehran\n",
            "('Kabul', 'Afghanistan') Kabul\n",
            "0.5652173913043478\n",
            "Training:['Athens', 'Greece']\n",
            "('Canberra', 'Australia') Sydney\n",
            "('London', 'England') stock_symbol_BNK\n",
            "('Madrid', 'Spain') Madrid\n",
            "('Cairo', 'Egypt') Cairo\n",
            "('Stockholm', 'Sweden') Stockholm\n",
            "('Paris', 'France') Paris\n",
            "('Bern', 'Switzerland') Lausanne\n",
            "('Helsinki', 'Finland') Helsinki\n",
            "('Ottawa', 'Canada') Ottawa\n",
            "('Berlin', 'Germany') Berlin\n",
            "('Rome', 'Italy') Rome\n",
            "('Tokyo', 'Japan') Tokyo\n",
            "('Islamabad', 'Pakistan') Islamabad\n",
            "('Baghdad', 'Iraq') Baghdad\n",
            "('Athens', 'Greece') Athens_Greece\n",
            "('Oslo', 'Norway') Oslo\n",
            "('Hanoi', 'Vietnam') Vietnam_War\n",
            "('Havana', 'Cuba') Havana\n",
            "('Bangkok', 'Thailand') Bangkok\n",
            "('Moscow', 'Russia') Moscow\n",
            "('Beijing', 'China') Beijing\n",
            "('Tehran', 'Iran') Tehran\n",
            "('Kabul', 'Afghanistan') Kabul\n",
            "0.782608695652174\n",
            "Training:['Oslo', 'Norway']\n",
            "('Canberra', 'Australia') Sydney\n",
            "('London', 'England') London\n",
            "('Madrid', 'Spain') Madrid\n",
            "('Cairo', 'Egypt') Cairo\n",
            "('Stockholm', 'Sweden') Stockholm\n",
            "('Paris', 'France') Paris\n",
            "('Bern', 'Switzerland') Zürich\n",
            "('Helsinki', 'Finland') Helsinki\n",
            "('Ottawa', 'Canada') Toronto\n",
            "('Berlin', 'Germany') Berlin\n",
            "('Rome', 'Italy') Rome\n",
            "('Tokyo', 'Japan') Tokyo\n",
            "('Islamabad', 'Pakistan') Islamabad\n",
            "('Baghdad', 'Iraq') Baghdad\n",
            "('Athens', 'Greece') Athens\n",
            "('Oslo', 'Norway') Oslo_Norway\n",
            "('Hanoi', 'Vietnam') Vietnam_War\n",
            "('Havana', 'Cuba') Havana\n",
            "('Bangkok', 'Thailand') Bangkok\n",
            "('Moscow', 'Russia') Moscow\n",
            "('Beijing', 'China') Beijing\n",
            "('Tehran', 'Iran') Tehran\n",
            "('Kabul', 'Afghanistan') Kabul\n",
            "0.782608695652174\n",
            "Training:['Hanoi', 'Vietnam']\n",
            "('Canberra', 'Australia') Sydney\n",
            "('London', 'England') stock_symbol_BNK\n",
            "('Madrid', 'Spain') Madrid\n",
            "('Cairo', 'Egypt') Cairo\n",
            "('Stockholm', 'Sweden') Stockholm\n",
            "('Paris', 'France') Paris\n",
            "('Bern', 'Switzerland') Swiss\n",
            "('Helsinki', 'Finland') Helsinki\n",
            "('Ottawa', 'Canada') Montreal\n",
            "('Berlin', 'Germany') Cologne\n",
            "('Rome', 'Italy') Milan\n",
            "('Tokyo', 'Japan') Tokyo\n",
            "('Islamabad', 'Pakistan') Islamabad\n",
            "('Baghdad', 'Iraq') Baghdad\n",
            "('Athens', 'Greece') Thessaloniki\n",
            "('Oslo', 'Norway') Norwegian\n",
            "('Hanoi', 'Vietnam') Ha_Noi\n",
            "('Havana', 'Cuba') Havana\n",
            "('Bangkok', 'Thailand') Bangkok\n",
            "('Moscow', 'Russia') Moscow\n",
            "('Beijing', 'China') Beijing\n",
            "('Tehran', 'Iran') Tehran\n",
            "('Kabul', 'Afghanistan') Kabul\n",
            "0.6086956521739131\n",
            "Training:['Havana', 'Cuba']\n",
            "('Canberra', 'Australia') Sydney\n",
            "('London', 'England') stock_symbol_BNK\n",
            "('Madrid', 'Spain') Madrid\n",
            "('Cairo', 'Egypt') Cairo\n",
            "('Stockholm', 'Sweden') Stockholm\n",
            "('Paris', 'France') Paris\n",
            "('Bern', 'Switzerland') Zürich\n",
            "('Helsinki', 'Finland') Helsinki\n",
            "('Ottawa', 'Canada') Toronto\n",
            "('Berlin', 'Germany') Berlin\n",
            "('Rome', 'Italy') Milan\n",
            "('Tokyo', 'Japan') Tokyo\n",
            "('Islamabad', 'Pakistan') Islamabad\n",
            "('Baghdad', 'Iraq') Baghdad\n",
            "('Athens', 'Greece') Thessaloniki\n",
            "('Oslo', 'Norway') Oslo\n",
            "('Hanoi', 'Vietnam') Hanoi\n",
            "('Havana', 'Cuba') Havana_Cuba\n",
            "('Bangkok', 'Thailand') Bangkok\n",
            "('Moscow', 'Russia') Moscow\n",
            "('Beijing', 'China') Shanghai\n",
            "('Tehran', 'Iran') Tehran\n",
            "('Kabul', 'Afghanistan') Kabul\n",
            "0.6521739130434783\n",
            "Training:['Bangkok', 'Thailand']\n",
            "('Canberra', 'Australia') Sydney\n",
            "('London', 'England') stock_symbol_BNK\n",
            "('Madrid', 'Spain') Madrid\n",
            "('Cairo', 'Egypt') Cairo\n",
            "('Stockholm', 'Sweden') Stockholm\n",
            "('Paris', 'France') Paris\n",
            "('Bern', 'Switzerland') Swiss\n",
            "('Helsinki', 'Finland') Helsinki\n",
            "('Ottawa', 'Canada') Toronto\n",
            "('Berlin', 'Germany') Berlin\n",
            "('Rome', 'Italy') Milan\n",
            "('Tokyo', 'Japan') Tokyo\n",
            "('Islamabad', 'Pakistan') Islamabad\n",
            "('Baghdad', 'Iraq') Baghdad\n",
            "('Athens', 'Greece') Athens\n",
            "('Oslo', 'Norway') Oslo\n",
            "('Hanoi', 'Vietnam') Hanoi\n",
            "('Havana', 'Cuba') Havana\n",
            "('Bangkok', 'Thailand') Chiang_Mai\n",
            "('Moscow', 'Russia') Moscow\n",
            "('Beijing', 'China') Beijing\n",
            "('Tehran', 'Iran') Tehran\n",
            "('Kabul', 'Afghanistan') Kabul\n",
            "0.7391304347826086\n",
            "Training:['Moscow', 'Russia']\n",
            "('Canberra', 'Australia') Sydney\n",
            "('London', 'England') stock_symbol_BNK\n",
            "('Madrid', 'Spain') Madrid\n",
            "('Cairo', 'Egypt') Cairo\n",
            "('Stockholm', 'Sweden') Stockholm\n",
            "('Paris', 'France') Paris\n",
            "('Bern', 'Switzerland') Zürich\n",
            "('Helsinki', 'Finland') Helsinki\n",
            "('Ottawa', 'Canada') Ottawa\n",
            "('Berlin', 'Germany') Berlin\n",
            "('Rome', 'Italy') Milan\n",
            "('Tokyo', 'Japan') Tokyo\n",
            "('Islamabad', 'Pakistan') Islamabad\n",
            "('Baghdad', 'Iraq') Baghdad\n",
            "('Athens', 'Greece') Athens\n",
            "('Oslo', 'Norway') Oslo\n",
            "('Hanoi', 'Vietnam') Hanoi\n",
            "('Havana', 'Cuba') Havana\n",
            "('Bangkok', 'Thailand') Bangkok\n",
            "('Moscow', 'Russia') Kiev\n",
            "('Beijing', 'China') Beijing\n",
            "('Tehran', 'Iran') Tehran\n",
            "('Kabul', 'Afghanistan') Kabul\n",
            "0.782608695652174\n",
            "Training:['Beijing', 'China']\n",
            "('Canberra', 'Australia') Sydney\n",
            "('London', 'England') stock_symbol_BNK\n",
            "('Madrid', 'Spain') Madrid\n",
            "('Cairo', 'Egypt') Cairo\n",
            "('Stockholm', 'Sweden') Stockholm\n",
            "('Paris', 'France') Paris\n",
            "('Bern', 'Switzerland') Swiss\n",
            "('Helsinki', 'Finland') Helsinki\n",
            "('Ottawa', 'Canada') Canadian\n",
            "('Berlin', 'Germany') Berlin\n",
            "('Rome', 'Italy') Turin\n",
            "('Tokyo', 'Japan') Tokyo\n",
            "('Islamabad', 'Pakistan') Islamabad\n",
            "('Baghdad', 'Iraq') Baghdad\n",
            "('Athens', 'Greece') Athens\n",
            "('Oslo', 'Norway') Norwegian\n",
            "('Hanoi', 'Vietnam') Hanoi\n",
            "('Havana', 'Cuba') Havana\n",
            "('Bangkok', 'Thailand') Bangkok\n",
            "('Moscow', 'Russia') Moscow\n",
            "('Beijing', 'China') Bejing\n",
            "('Tehran', 'Iran') Tehran\n",
            "('Kabul', 'Afghanistan') Kabul\n",
            "0.6956521739130435\n",
            "Training:['Tehran', 'Iran']\n",
            "('Canberra', 'Australia') Sydney\n",
            "('London', 'England') stock_symbol_BNK\n",
            "('Madrid', 'Spain') Madrid\n",
            "('Cairo', 'Egypt') Cairo\n",
            "('Stockholm', 'Sweden') Stockholm\n",
            "('Paris', 'France') Paris\n",
            "('Bern', 'Switzerland') Swiss\n",
            "('Helsinki', 'Finland') Tampere\n",
            "('Ottawa', 'Canada') Ontario\n",
            "('Berlin', 'Germany') Cologne\n",
            "('Rome', 'Italy') Italian\n",
            "('Tokyo', 'Japan') Tokyo\n",
            "('Islamabad', 'Pakistan') Islamabad\n",
            "('Baghdad', 'Iraq') Baghdad\n",
            "('Athens', 'Greece') Greek\n",
            "('Oslo', 'Norway') Norwegian\n",
            "('Hanoi', 'Vietnam') Hanoi\n",
            "('Havana', 'Cuba') Havana\n",
            "('Bangkok', 'Thailand') Bangkok\n",
            "('Moscow', 'Russia') Moscow\n",
            "('Beijing', 'China') Beijing\n",
            "('Tehran', 'Iran') Teheran\n",
            "('Kabul', 'Afghanistan') Kabul\n",
            "0.5652173913043478\n",
            "Training:['Kabul', 'Afghanistan']\n",
            "('Canberra', 'Australia') Sydney\n",
            "('London', 'England') stock_symbol_BNK\n",
            "('Madrid', 'Spain') Madrid\n",
            "('Cairo', 'Egypt') Cairo\n",
            "('Stockholm', 'Sweden') Stockholm\n",
            "('Paris', 'France') Paris\n",
            "('Bern', 'Switzerland') Swiss\n",
            "('Helsinki', 'Finland') Helsinki\n",
            "('Ottawa', 'Canada') Canadian\n",
            "('Berlin', 'Germany') Cologne\n",
            "('Rome', 'Italy') Italian\n",
            "('Tokyo', 'Japan') Tokyo\n",
            "('Islamabad', 'Pakistan') Islamabad\n",
            "('Baghdad', 'Iraq') Baghdad\n",
            "('Athens', 'Greece') Thessaloniki\n",
            "('Oslo', 'Norway') Norwegian\n",
            "('Hanoi', 'Vietnam') Hanoi\n",
            "('Havana', 'Cuba') Havana\n",
            "('Bangkok', 'Thailand') Bangkok\n",
            "('Moscow', 'Russia') Moscow\n",
            "('Beijing', 'China') Beijing\n",
            "('Tehran', 'Iran') Tehran\n",
            "('Kabul', 'Afghanistan') Kandahar\n",
            "0.6086956521739131\n"
          ]
        }
      ]
    },
    {
      "cell_type": "code",
      "source": [],
      "metadata": {
        "id": "joo3KHfCcTdc"
      },
      "execution_count": null,
      "outputs": []
    },
    {
      "cell_type": "code",
      "source": [],
      "metadata": {
        "id": "gUv7ku_KcTgY"
      },
      "execution_count": null,
      "outputs": []
    },
    {
      "cell_type": "code",
      "source": [],
      "metadata": {
        "id": "4pIBWl9icTj3"
      },
      "execution_count": null,
      "outputs": []
    }
  ],
  "metadata": {
    "kernelspec": {
      "display_name": "Python 3",
      "language": "python",
      "name": "python3"
    },
    "language_info": {
      "codemirror_mode": {
        "name": "ipython",
        "version": 3
      },
      "file_extension": ".py",
      "mimetype": "text/x-python",
      "name": "python",
      "nbconvert_exporter": "python",
      "pygments_lexer": "ipython3",
      "version": "3.7.1"
    },
    "colab": {
      "provenance": [],
      "include_colab_link": true
    }
  },
  "nbformat": 4,
  "nbformat_minor": 0
}